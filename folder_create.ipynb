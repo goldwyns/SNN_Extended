{
 "cells": [
  {
   "cell_type": "code",
   "execution_count": 1,
   "id": "5ef304de-c0d2-4e5c-bd90-3948bf6a0ee8",
   "metadata": {},
   "outputs": [
    {
     "name": "stdout",
     "output_type": "stream",
     "text": [
      "✅ Folder structure and placeholder files created.\n"
     ]
    }
   ],
   "source": [
    "import os\n",
    "\n",
    "# Define base path (current directory or customize)\n",
    "base_path = os.getcwd()\n",
    "\n",
    "# List of folders to create\n",
    "folders = [\n",
    "    \"data/bonn\",\n",
    "    \"data/hauz\",\n",
    "    \"configs\",\n",
    "    \"preprocessing\",\n",
    "    \"datasets\",\n",
    "    \"models\",\n",
    "    \"training\",\n",
    "    \"evaluation\",\n",
    "    \"experiments/results/bonn\",\n",
    "    \"experiments/results/hauz\",\n",
    "    \"experiments/logs\",\n",
    "    \"plots\",\n",
    "    \"utils\"\n",
    "]\n",
    "\n",
    "# Create folders\n",
    "for folder in folders:\n",
    "    path = os.path.join(base_path, folder)\n",
    "    os.makedirs(path, exist_ok=True)\n",
    "\n",
    "# Create placeholder files for entry points\n",
    "placeholder_files = [\n",
    "    \"preprocessing/preprocessing.py\",\n",
    "    \"preprocessing/feature_extraction.py\",\n",
    "    \"datasets/bonn_dataset.py\",\n",
    "    \"datasets/hauz_dataset.py\",\n",
    "    \"datasets/loader_utils.py\",\n",
    "    \"models/recurrent_attention_snn.py\",\n",
    "    \"models/snn_baseline.py\",\n",
    "    \"models/temporal_snn.py\",\n",
    "    \"models/__init__.py\",\n",
    "    \"training/trainer.py\",\n",
    "    \"training/early_stopping.py\",\n",
    "    \"evaluation/evaluator.py\",\n",
    "    \"evaluation/metrics_utils.py\",\n",
    "    \"plots/plot_accuracy_curves.py\",\n",
    "    \"plots/plot_confusion_matrix.py\",\n",
    "    \"plots/spike_activity_visuals.py\",\n",
    "    \"utils/logger.py\",\n",
    "    \"utils/seed_utils.py\",\n",
    "    \"utils/common.py\",\n",
    "    \"main.py\",\n",
    "    \"requirements.txt\",\n",
    "    \"README.md\"\n",
    "]\n",
    "\n",
    "# Create empty files\n",
    "for file in placeholder_files:\n",
    "    path = os.path.join(base_path, file)\n",
    "    if not os.path.exists(path):\n",
    "        with open(path, 'w') as f:\n",
    "            f.write(\"# TODO: Implement this module\\n\")\n",
    "\n",
    "print(\"✅ Folder structure and placeholder files created.\")\n"
   ]
  },
  {
   "cell_type": "code",
   "execution_count": null,
   "id": "6df904be-e2e3-4d8c-96eb-b571634c95f6",
   "metadata": {},
   "outputs": [],
   "source": []
  }
 ],
 "metadata": {
  "kernelspec": {
   "display_name": "Python 3 (ipykernel)",
   "language": "python",
   "name": "python3"
  },
  "language_info": {
   "codemirror_mode": {
    "name": "ipython",
    "version": 3
   },
   "file_extension": ".py",
   "mimetype": "text/x-python",
   "name": "python",
   "nbconvert_exporter": "python",
   "pygments_lexer": "ipython3",
   "version": "3.13.1"
  }
 },
 "nbformat": 4,
 "nbformat_minor": 5
}
